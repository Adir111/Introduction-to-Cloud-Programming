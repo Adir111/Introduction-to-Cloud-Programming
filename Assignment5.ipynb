{
  "nbformat": 4,
  "nbformat_minor": 0,
  "metadata": {
    "colab": {
      "provenance": [],
      "authorship_tag": "ABX9TyMrFQ2FdOZOGUl7+ser1yVp",
      "include_colab_link": true
    },
    "kernelspec": {
      "name": "python3",
      "display_name": "Python 3"
    },
    "language_info": {
      "name": "python"
    }
  },
  "cells": [
    {
      "cell_type": "markdown",
      "metadata": {
        "id": "view-in-github",
        "colab_type": "text"
      },
      "source": [
        "<a href=\"https://colab.research.google.com/github/Adir111/Introduction-to-Cloud-Programming/blob/main/Assignment5.ipynb\" target=\"_parent\"><img src=\"https://colab.research.google.com/assets/colab-badge.svg\" alt=\"Open In Colab\"/></a>"
      ]
    },
    {
      "cell_type": "code",
      "execution_count": 1,
      "metadata": {
        "colab": {
          "base_uri": "https://localhost:8080/"
        },
        "id": "eUsywpWTGN3x",
        "outputId": "0d6e09f1-5bf7-4e26-981e-8e90bb0e9d8c"
      },
      "outputs": [
        {
          "output_type": "stream",
          "name": "stdout",
          "text": [
            "Collecting firebase\n",
            "  Downloading firebase-4.0.1-py3-none-any.whl (12 kB)\n",
            "Requirement already satisfied: requests in /usr/local/lib/python3.10/dist-packages (from firebase) (2.31.0)\n",
            "Requirement already satisfied: charset-normalizer<4,>=2 in /usr/local/lib/python3.10/dist-packages (from requests->firebase) (3.3.2)\n",
            "Requirement already satisfied: idna<4,>=2.5 in /usr/local/lib/python3.10/dist-packages (from requests->firebase) (3.7)\n",
            "Requirement already satisfied: urllib3<3,>=1.21.1 in /usr/local/lib/python3.10/dist-packages (from requests->firebase) (2.0.7)\n",
            "Requirement already satisfied: certifi>=2017.4.17 in /usr/local/lib/python3.10/dist-packages (from requests->firebase) (2024.6.2)\n",
            "Installing collected packages: firebase\n",
            "Successfully installed firebase-4.0.1\n"
          ]
        }
      ],
      "source": [
        "!pip install firebase"
      ]
    },
    {
      "cell_type": "code",
      "source": [
        "from firebase import firebase\n",
        "FBconn = firebase.FirebaseApplication('https://intro-to-cloud-computing-ea60f-default-rtdb.firebaseio.com/', None)\n",
        "while True:\n",
        "  temperature = int(input(\"What is the temperature? \"))\n",
        "  if temperature >= 100 or temperature <= -100:\n",
        "    break\n",
        "  data_to_upload = {\n",
        "      'Temp': temperature\n",
        "  }\n",
        "  result = FBconn.post('/temperature/', data_to_upload)\n",
        "  print(result)\n",
        "print(\"bye\")"
      ],
      "metadata": {
        "colab": {
          "base_uri": "https://localhost:8080/"
        },
        "id": "NT-Va7tNGahk",
        "outputId": "1f0512c8-73d5-4f0a-b898-c6849cb3feb2"
      },
      "execution_count": 7,
      "outputs": [
        {
          "output_type": "stream",
          "name": "stdout",
          "text": [
            "What is the temperature? 33\n",
            "{'name': '-O0d7f-7vSdquag_E0--'}\n",
            "What is the temperature? 22\n",
            "{'name': '-O0d7fKxAZmY0XJKwHjc'}\n",
            "What is the temperature? 11\n",
            "{'name': '-O0d7fcZCfekODaTXfe0'}\n",
            "What is the temperature? 122\n",
            "bye\n"
          ]
        }
      ]
    },
    {
      "cell_type": "code",
      "source": [
        "res = FBconn.get('/temperature/', None)\n",
        "for key in res:\n",
        "  print(key + \":\\t\", res[key])"
      ],
      "metadata": {
        "colab": {
          "base_uri": "https://localhost:8080/"
        },
        "id": "Xa7dPUnJJCfL",
        "outputId": "c4de16b1-9c3e-43f5-9245-9c6f8af0a22e"
      },
      "execution_count": 8,
      "outputs": [
        {
          "output_type": "stream",
          "name": "stdout",
          "text": [
            "-O0d7f-7vSdquag_E0--:\t {'Temp': 33}\n",
            "-O0d7fKxAZmY0XJKwHjc:\t {'Temp': 22}\n",
            "-O0d7fcZCfekODaTXfe0:\t {'Temp': 11}\n"
          ]
        }
      ]
    },
    {
      "cell_type": "code",
      "source": [
        "# Middle Exercise\n",
        "# Writing to DB with Input\n",
        "name = input(\"What is the student first name? \")\n",
        "while name != \"stop\":\n",
        "  data_tp_upload = {\n",
        "      'first_name': name,\n",
        "      'last_name': input(\"What is the student last name? \"),\n",
        "      'email': input(\"What is the student email? \"),\n",
        "      'courses': input(\"What are the student courses? \"),\n",
        "      'favorite_show': input(\"What is the student favorite show? \")\n",
        "  }\n",
        "  result = FBconn.post('/student/', data_tp_upload)\n",
        "  print(\"** To stop, write stop for the name. **\")\n",
        "  name = input(\"What is the student first name? \")"
      ],
      "metadata": {
        "colab": {
          "base_uri": "https://localhost:8080/"
        },
        "id": "gscMmoDxJYM_",
        "outputId": "cb0465f3-de9e-451f-bfa7-3173ecad0c09"
      },
      "execution_count": 18,
      "outputs": [
        {
          "name": "stdout",
          "output_type": "stream",
          "text": [
            "What is the student first name? Adir\n",
            "What is the student last name? David\n",
            "What is the student email? Adir.David@e.braude.ac.il\n",
            "What are the student courses? A B C and D\n",
            "What is the student favorite show? Fauda\n",
            "** To stop, write stop for the name. **\n",
            "What is the student first name? stop\n"
          ]
        }
      ]
    },
    {
      "cell_type": "code",
      "source": [
        "# Writing to DB with json file\n",
        "import json\n",
        "from google.colab import drive\n",
        "drive.mount('/content/drive')\n",
        "file_path = '/content/drive/My Drive/students.json'\n",
        "with open(file_path, 'r') as file:\n",
        "    json_data = file.read()\n",
        "\n",
        "data = json.loads(json_data)\n",
        "for jsonObj in data:\n",
        "  FBconn.post('/studentJson/', jsonObj)"
      ],
      "metadata": {
        "colab": {
          "base_uri": "https://localhost:8080/"
        },
        "id": "QG5ek_ZwQDv8",
        "outputId": "7ad40483-fbee-48e9-a52d-9c6d5bda1112"
      },
      "execution_count": 21,
      "outputs": [
        {
          "output_type": "stream",
          "name": "stdout",
          "text": [
            "Drive already mounted at /content/drive; to attempt to forcibly remount, call drive.mount(\"/content/drive\", force_remount=True).\n"
          ]
        }
      ]
    },
    {
      "cell_type": "code",
      "source": [
        "# Reading from DB\n",
        "selection = int(input(\"What do you want to see? For json data, type 1. For input data, type any other number: \"))\n",
        "dictionary = '/studentJson/' if selection == 1 else '/student/'\n",
        "res = FBconn.get(dictionary, None)\n",
        "index = 1\n",
        "for key in res:\n",
        "  print(\"Student \" + str(index) + \":\")\n",
        "  index += 1\n",
        "  print(\"\\tFirst Name:\\t\", res[key]['first_name'])\n",
        "  print(\"\\tLast Name:\\t\", res[key]['last_name'])\n",
        "  print(\"\\tEmail:\\t\\t\", res[key]['email'])\n",
        "  print(\"\\tCourses:\\t\", res[key]['courses'])\n",
        "  print(\"\\tFavorite Show:\\t\", res[key]['favorite_show'])"
      ],
      "metadata": {
        "colab": {
          "base_uri": "https://localhost:8080/"
        },
        "id": "Jkol7pfHMAd9",
        "outputId": "7cda9e65-943f-49b8-cd5f-2edec939d6ae"
      },
      "execution_count": 23,
      "outputs": [
        {
          "output_type": "stream",
          "name": "stdout",
          "text": [
            "What do you want to see? For json data, type 1. For input data, type any other number: 2\n",
            "Student 1:\n",
            "\tFirst Name:\t Adir\n",
            "\tLast Name:\t David\n",
            "\tEmail:\t\t Adir.David@e.braude.ac.il\n",
            "\tCourses:\t A B C and D\n",
            "\tFavorite Show:\t Fauda\n"
          ]
        }
      ]
    },
    {
      "cell_type": "code",
      "source": [],
      "metadata": {
        "id": "xGpXQq8RP7bi"
      },
      "execution_count": null,
      "outputs": []
    }
  ]
}